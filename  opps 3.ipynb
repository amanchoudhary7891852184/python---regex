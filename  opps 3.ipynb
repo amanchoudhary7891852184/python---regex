{
 "cells": [
  {
   "cell_type": "markdown",
   "id": "972d9d2e-e0f9-4631-a687-66b34c857fb6",
   "metadata": {},
   "source": [
    "## private function \n"
   ]
  },
  {
   "cell_type": "markdown",
   "id": "d478a828-460c-471f-9ad9-3d4229303dcb",
   "metadata": {},
   "source": [
    "## employee salary"
   ]
  },
  {
   "cell_type": "code",
   "execution_count": 7,
   "id": "ad2a2ea3-53bd-44ff-bf7d-2cc85cac995a",
   "metadata": {},
   "outputs": [
    {
     "name": "stdout",
     "output_type": "stream",
     "text": [
      "Name of employee is: sam and salary is: 20000\n",
      "sam\n"
     ]
    },
    {
     "ename": "AttributeError",
     "evalue": "'Employee' object has no attribute '__salary'",
     "output_type": "error",
     "traceback": [
      "\u001b[1;31m---------------------------------------------------------------------------\u001b[0m",
      "\u001b[1;31mAttributeError\u001b[0m                            Traceback (most recent call last)",
      "Cell \u001b[1;32mIn[7], line 13\u001b[0m\n\u001b[0;32m     11\u001b[0m a\u001b[38;5;241m.\u001b[39mgetInfo()\n\u001b[0;32m     12\u001b[0m \u001b[38;5;28mprint\u001b[39m(a\u001b[38;5;241m.\u001b[39mname)\n\u001b[1;32m---> 13\u001b[0m \u001b[38;5;28mprint\u001b[39m(a\u001b[38;5;241m.\u001b[39m__salary)\n",
      "\u001b[1;31mAttributeError\u001b[0m: 'Employee' object has no attribute '__salary'"
     ]
    }
   ],
   "source": [
    "class Employee:\n",
    "\n",
    "    def __init__(self, name, salary):\n",
    "        self.name = name         # public attribute\n",
    "        self.__salary = salary   # private attribute\n",
    "\n",
    "    def getInfo(self):\n",
    "        print(f\"Name of employee is: {self.name} and salary is: {self.__salary}\")\n",
    "\n",
    "a = Employee('sam', 20000)\n",
    "a.getInfo()\n",
    "print(a.name)\n",
    "print(a.__salary)    \n"
   ]
  },
  {
   "cell_type": "code",
   "execution_count": 10,
   "id": "060003f3-09e9-43c6-aedc-b80805fc8a88",
   "metadata": {},
   "outputs": [
    {
     "name": "stdout",
     "output_type": "stream",
     "text": [
      "Name of employee is: sam and salary is: 20000\n",
      "sam\n"
     ]
    }
   ],
   "source": [
    "class Employee:\n",
    "\n",
    "    def __init__(self, name, salary):\n",
    "        self.name = name         # public attribute\n",
    "        self.__salary = salary   # private attribute\n",
    "\n",
    "    def getInfo(self):\n",
    "        print(f\"Name of employee is: {self.name} and salary is: {self.__salary}\")\n",
    "\n",
    "a = Employee('sam', 20000)\n",
    "a.getInfo()\n",
    "print(a.name)\n",
    "#print(a.__salary)    \n"
   ]
  },
  {
   "cell_type": "markdown",
   "id": "36ea0608-8431-45e4-8f5a-e766b6c88d82",
   "metadata": {},
   "source": [
    "## bank account "
   ]
  },
  {
   "cell_type": "code",
   "execution_count": 14,
   "id": "bcf54e6d-297c-4ee1-b563-50c32cd84a4b",
   "metadata": {},
   "outputs": [],
   "source": [
    "class BankAccount:\n",
    "    def __init__(self, account_holder, balance):\n",
    "        self.__account_holder = account_holder  # Private attribute\n",
    "        self.__balance = balance                # Private attribute\n",
    "\n",
    "    # Getter for account holder\n",
    "    def get_account_holder(self):\n",
    "        return self.__account_holder\n",
    "\n",
    "    # Getter for balance\n",
    "    def get_balance(self):\n",
    "        return self.__balance\n",
    "\n",
    "    # Method to deposit money\n",
    "    def deposit(self, amount):\n",
    "        if amount > 0:\n",
    "            self.__balance += amount\n",
    "            return f\"Deposit successful! New balance: {self.__balance}\"\n",
    "        else:\n",
    "            return \"Invalid deposit amount!\"\n",
    "     # Method to withdraw money\n",
    "    def withdraw(self, amount):\n",
    "        if amount <= self.__balance:\n",
    "            self.__balance -= amount\n",
    "            return f\"Withdrawal successful! New balance: {self.__balance}\"\n",
    "        else:\n",
    "            return \"Insufficient funds!\"\n"
   ]
  },
  {
   "cell_type": "code",
   "execution_count": 18,
   "id": "ea4358e1-77be-4fbf-80f8-a12c972785d1",
   "metadata": {},
   "outputs": [
    {
     "name": "stdout",
     "output_type": "stream",
     "text": [
      "Sam\n",
      "5000\n",
      "Deposit successful! New balance: 6000\n",
      "Withdrawal successful! New balance: 4000\n"
     ]
    }
   ],
   "source": [
    "account = BankAccount(\"Sam\", 5000)\n",
    "print(account.get_account_holder())\n",
    "print(account.get_balance())\n",
    "print(account.deposit(1000))\n",
    "print(account.withdraw(2000))\n"
   ]
  },
  {
   "cell_type": "markdown",
   "id": "c2260324-26de-478e-8013-6e7540711c9d",
   "metadata": {},
   "source": [
    "## student grade "
   ]
  },
  {
   "cell_type": "code",
   "execution_count": 37,
   "id": "4eb4edd7-9708-42e0-bfe0-91b4e04a617c",
   "metadata": {},
   "outputs": [
    {
     "name": "stdout",
     "output_type": "stream",
     "text": [
      "Rohit\n",
      "85\n",
      "Grade updated successfully!\n",
      "75\n",
      "Invalid grade! Must be between 0 and 100.\n"
     ]
    }
   ],
   "source": [
    "class Student:\n",
    "    def __init__(self, name, grade):\n",
    "        self.name = name          # Public attribute\n",
    "        self.__grade = grade      # Private attribute\n",
    "\n",
    "    # Getter for grade\n",
    "    def get_grade(self):\n",
    "        return self.__grade\n",
    "\n",
    "    # Setter for grade (with validation)\n",
    "    def set_grade(self, new_grade):\n",
    "        if 0 <= new_grade <= 100:\n",
    "            self.__grade = new_grade\n",
    "            return \"Grade updated successfully!\"\n",
    "        else:\n",
    "            return \"Invalid grade! Must be between 0 and 100.\"\n",
    "# Using the class\n",
    "student = Student(\"Rohit\", 85)\n",
    "print(student.name)\n",
    "print(student.get_grade())\n",
    "print(student.set_grade(75))\n",
    "print(student.get_grade())\n",
    "\n",
    "# Attempt to set an invalid grade\n",
    "print(student.set_grade(150))  # Output: Invalid grade! Must be between 0 and 100.\n"
   ]
  },
  {
   "cell_type": "markdown",
   "id": "3f5672d6-dc9d-451d-929a-36bf3155e2f1",
   "metadata": {},
   "source": [
    "## medical record"
   ]
  },
  {
   "cell_type": "code",
   "execution_count": 41,
   "id": "ba8a0b4e-abda-463f-9a18-d89110105d4a",
   "metadata": {},
   "outputs": [
    {
     "name": "stdout",
     "output_type": "stream",
     "text": [
      "medical record added for aman.\n",
      "medical record added for aman.\n",
      "medical record added for aman.\n",
      "medical history for aman:['2024:flu diagnosis', '2024:blood test', '2024:covid']\n"
     ]
    }
   ],
   "source": [
    "class pastient:\n",
    "    def __init__(self,name,age):\n",
    "        self.__name=name\n",
    "        self.age=age\n",
    "        self.__mesdical_history=[]\n",
    "    def add_medical_record(self,record):\n",
    "        self.__mesdical_history.append(record)\n",
    "        return f\"medical record added for {self.__name}.\"\n",
    "    def get_medical_history(self):\n",
    "        return f\"medical history for {self.__name}:{self.__mesdical_history}\"\n",
    "pastient=pastient(\"aman\",30)\n",
    "print(pastient.add_medical_record(\"2024:flu diagnosis\"))\n",
    "print(pastient.add_medical_record(\"2024:blood test\"))\n",
    "print(pastient.add_medical_record(\"2024:covid\"))\n",
    "print(pastient.get_medical_history())"
   ]
  },
  {
   "cell_type": "code",
   "execution_count": null,
   "id": "80ca76c8-db18-40ab-ba00-4d438f891f1b",
   "metadata": {},
   "outputs": [],
   "source": []
  }
 ],
 "metadata": {
  "kernelspec": {
   "display_name": "Python 3 (ipykernel)",
   "language": "python",
   "name": "python3"
  },
  "language_info": {
   "codemirror_mode": {
    "name": "ipython",
    "version": 3
   },
   "file_extension": ".py",
   "mimetype": "text/x-python",
   "name": "python",
   "nbconvert_exporter": "python",
   "pygments_lexer": "ipython3",
   "version": "3.12.3"
  }
 },
 "nbformat": 4,
 "nbformat_minor": 5
}
