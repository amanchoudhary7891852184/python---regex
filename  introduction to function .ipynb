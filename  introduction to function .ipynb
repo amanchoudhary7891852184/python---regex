{
 "cells": [
  {
   "cell_type": "markdown",
   "id": "d48c02f3-ec9f-4276-8b09-db8c6103cc48",
   "metadata": {},
   "source": [
    "## function  \n",
    "        # set of instruction "
   ]
  },
  {
   "cell_type": "code",
   "execution_count": 7,
   "id": "3942cab6-3edd-49bd-8f18-cada6edd5bb0",
   "metadata": {},
   "outputs": [],
   "source": [
    "## predefine function \n",
    "         # print()\n",
    "         # len()"
   ]
  },
  {
   "cell_type": "code",
   "execution_count": 9,
   "id": "2d929881-5d76-4902-a9ea-678c66d8a47f",
   "metadata": {},
   "outputs": [
    {
     "data": {
      "text/plain": [
       "4"
      ]
     },
     "execution_count": 9,
     "metadata": {},
     "output_type": "execute_result"
    }
   ],
   "source": [
    "len([23,54,54,54])"
   ]
  },
  {
   "cell_type": "code",
   "execution_count": 13,
   "id": "5aa1826e-5809-49a3-a33e-c2d9a6babeee",
   "metadata": {},
   "outputs": [
    {
     "name": "stdout",
     "output_type": "stream",
     "text": [
      "100 a is grater \n"
     ]
    }
   ],
   "source": [
    "a=100\n",
    "b=20\n",
    "if a>b:\n",
    "    print(a,\"a is grater \" )\n",
    "else:\n",
    "    print(b,\"b  is grater \")"
   ]
  },
  {
   "cell_type": "code",
   "execution_count": 17,
   "id": "7ae8588a-df1b-4605-8aaf-fd29f6da8d56",
   "metadata": {},
   "outputs": [
    {
     "name": "stdout",
     "output_type": "stream",
     "text": [
      "hello \n"
     ]
    }
   ],
   "source": [
    "def greet():\n",
    "    print(\"hello \")\n",
    "greet()"
   ]
  },
  {
   "cell_type": "code",
   "execution_count": 25,
   "id": "70b3fa00-406d-4472-9075-53484820575b",
   "metadata": {},
   "outputs": [
    {
     "name": "stdout",
     "output_type": "stream",
     "text": [
      "20 b  is grater \n"
     ]
    }
   ],
   "source": [
    "def comp(a,b):\n",
    "    if a>b:\n",
    "        print(a,\"a is grater \" )\n",
    "    else:\n",
    "        print(b,\"b  is grater \")\n",
    "comp(10,20)"
   ]
  },
  {
   "cell_type": "code",
   "execution_count": 33,
   "id": "ce41ab21-fed2-46af-8171-8b6fe9028f3b",
   "metadata": {},
   "outputs": [
    {
     "data": {
      "text/plain": [
       "' hello aman'"
      ]
     },
     "execution_count": 33,
     "metadata": {},
     "output_type": "execute_result"
    }
   ],
   "source": [
    "def greet(name):\n",
    "    return f\" hello {name}\"\n",
    "greet(\"aman\")"
   ]
  },
  {
   "cell_type": "markdown",
   "id": "e2e811b1-f0dd-4222-b891-d2608ff92470",
   "metadata": {},
   "source": [
    "sq_sum-->fun name\n",
    "square sum of two  numbers"
   ]
  },
  {
   "cell_type": "code",
   "execution_count": 36,
   "id": "6cfaec87-30d1-49fa-a769-85b0a55c3be2",
   "metadata": {},
   "outputs": [
    {
     "name": "stdout",
     "output_type": "stream",
     "text": [
      "50\n"
     ]
    }
   ],
   "source": [
    "def sq_sum(a,b):\n",
    "    print(a**2+b**2)\n",
    "sq_sum(5,5)"
   ]
  },
  {
   "cell_type": "code",
   "execution_count": 40,
   "id": "6dfbc978-0e53-4b01-9236-27f813051d60",
   "metadata": {},
   "outputs": [
    {
     "name": "stdout",
     "output_type": "stream",
     "text": [
      "50\n",
      "None\n"
     ]
    }
   ],
   "source": [
    "print(sq_sum(5,5))"
   ]
  },
  {
   "cell_type": "code",
   "execution_count": null,
   "id": "da02b4aa-374e-4049-b860-4de6e15a95fb",
   "metadata": {},
   "outputs": [],
   "source": []
  },
  {
   "cell_type": "markdown",
   "id": "57d564d1-168e-4dc8-92e9-d1225de155d7",
   "metadata": {},
   "source": [
    "## type of arguments \n",
    "               # 1 required argument\n",
    "                2  default argument \n",
    "                3  keyword argument\n",
    "                4   variable length argument \n",
    "                5 . key word variable length argument "
   ]
  },
  {
   "cell_type": "markdown",
   "id": "1bddb698-cea0-427e-a066-803f5e332bbc",
   "metadata": {},
   "source": [
    "## doc string"
   ]
  },
  {
   "cell_type": "code",
   "execution_count": 7,
   "id": "622a5ebf-e93a-4772-a458-484c80c5c045",
   "metadata": {},
   "outputs": [],
   "source": [
    "def sq_sum(a,b):\n",
    "    \"\"\"a-->required argument(int)\n",
    "       b-->required argument(int)\n",
    "       return square sum of a and b\n",
    "    \"\"\"\n",
    "    return a**2 +b**2"
   ]
  },
  {
   "cell_type": "code",
   "execution_count": 11,
   "id": "cf6eccee-e1f2-42ed-b3e3-90b7cb163e18",
   "metadata": {},
   "outputs": [
    {
     "data": {
      "text/plain": [
       "5"
      ]
     },
     "execution_count": 11,
     "metadata": {},
     "output_type": "execute_result"
    }
   ],
   "source": [
    "sq_sum(1,2)"
   ]
  },
  {
   "cell_type": "code",
   "execution_count": 15,
   "id": "622a0540-7605-4bbc-a358-c1fc3be291c1",
   "metadata": {},
   "outputs": [
    {
     "data": {
      "text/plain": [
       "0.8333333333333334"
      ]
     },
     "execution_count": 15,
     "metadata": {},
     "output_type": "execute_result"
    }
   ],
   "source": [
    "def fun(a,b):\n",
    "    return a/b\n",
    "fun(5,6)"
   ]
  },
  {
   "cell_type": "markdown",
   "id": "45ffa8cb-80b9-41d7-b219-a4b7eff5e9fa",
   "metadata": {},
   "source": [
    "fun ---->argument --->number \n",
    "         return true ---> number even\n",
    "         return false ---> number odd\n",
    "         "
   ]
  },
  {
   "cell_type": "code",
   "execution_count": 24,
   "id": "f3178950-5b79-4f26-9475-715bc09a562a",
   "metadata": {},
   "outputs": [],
   "source": [
    "def even_odd(num):\n",
    "    \"\"\"return  true and false\n",
    "    \"\"\"\n",
    "    if num %2==0:\n",
    "        return True\n",
    "    else:\n",
    "        return False"
   ]
  },
  {
   "cell_type": "code",
   "execution_count": 26,
   "id": "b5cabe07-fe11-4276-873f-ffcddcc55e3a",
   "metadata": {},
   "outputs": [
    {
     "data": {
      "text/plain": [
       "False"
      ]
     },
     "execution_count": 26,
     "metadata": {},
     "output_type": "execute_result"
    }
   ],
   "source": [
    "even_odd(5)"
   ]
  },
  {
   "cell_type": "markdown",
   "id": "1bd35308-e63b-4970-ae33-3a4de2576218",
   "metadata": {},
   "source": [
    "## required /postion argument"
   ]
  },
  {
   "cell_type": "code",
   "execution_count": 32,
   "id": "0b27d5f8-cd5d-41e2-b165-c0a03d9a1f57",
   "metadata": {},
   "outputs": [],
   "source": [
    "def user_details(name,age,address):\n",
    "    print(f\"user_name:{name}\")\n",
    "    print(f\"user_age:{age}\")\n",
    "    print(f\"user_address:{address}\")  ## formal arguments "
   ]
  },
  {
   "cell_type": "code",
   "execution_count": 34,
   "id": "e1823d16-683a-4c1c-b9cf-9dadfa30998c",
   "metadata": {},
   "outputs": [
    {
     "name": "stdout",
     "output_type": "stream",
     "text": [
      "user_name:aman\n",
      "user_age:25\n",
      "user_address:kota\n"
     ]
    }
   ],
   "source": [
    "user_details(\"aman\",25,\"kota\")"
   ]
  },
  {
   "cell_type": "code",
   "execution_count": 47,
   "id": "f682ec28-e2b5-4f65-ba63-31dc77b728c4",
   "metadata": {},
   "outputs": [
    {
     "ename": "TypeError",
     "evalue": "user_details() missing 1 required positional argument: 'address'",
     "output_type": "error",
     "traceback": [
      "\u001b[1;31m---------------------------------------------------------------------------\u001b[0m",
      "\u001b[1;31mTypeError\u001b[0m                                 Traceback (most recent call last)",
      "Cell \u001b[1;32mIn[47], line 1\u001b[0m\n\u001b[1;32m----> 1\u001b[0m user_details(\u001b[38;5;124m'\u001b[39m\u001b[38;5;124mharsh\u001b[39m\u001b[38;5;124m'\u001b[39m,\u001b[38;5;241m24\u001b[39m)\n",
      "\u001b[1;31mTypeError\u001b[0m: user_details() missing 1 required positional argument: 'address'"
     ]
    }
   ],
   "source": [
    "user_details('harsh',24)"
   ]
  },
  {
   "cell_type": "code",
   "execution_count": 49,
   "id": "66860be0-c7d8-428d-9a9e-6dd6bb84e00d",
   "metadata": {},
   "outputs": [
    {
     "name": "stdout",
     "output_type": "stream",
     "text": [
      "user_name:25\n",
      "user_age:hjbdsu\n",
      "user_address:hbv\n"
     ]
    }
   ],
   "source": [
    "user_details(25,'hjbdsu','hbv')"
   ]
  },
  {
   "cell_type": "markdown",
   "id": "01ff84f3-1e37-4e6e-904c-8fa1c993ef69",
   "metadata": {},
   "source": [
    "## default argument"
   ]
  },
  {
   "cell_type": "code",
   "execution_count": 52,
   "id": "f9c07f2d-264f-454c-8435-716a5d6157f2",
   "metadata": {},
   "outputs": [
    {
     "data": {
      "text/plain": [
       "[(0, 100), (1, 200), (2, 300), (3, 400)]"
      ]
     },
     "execution_count": 52,
     "metadata": {},
     "output_type": "execute_result"
    }
   ],
   "source": [
    "list(enumerate([100,200,300,400]))"
   ]
  },
  {
   "cell_type": "code",
   "execution_count": 62,
   "id": "b78cc006-6a2e-4be8-8507-938d639de1cd",
   "metadata": {},
   "outputs": [
    {
     "data": {
      "text/plain": [
       "[(10, 100), (11, 200), (12, 300), (13, 400)]"
      ]
     },
     "execution_count": 62,
     "metadata": {},
     "output_type": "execute_result"
    }
   ],
   "source": [
    "ls=list(enumerate([100,200,300,400],start=10))\n",
    "ls"
   ]
  },
  {
   "cell_type": "code",
   "execution_count": 64,
   "id": "b0087236-a439-4b2a-88c8-e394a2108328",
   "metadata": {},
   "outputs": [
    {
     "data": {
      "text/plain": [
       "(13, 400)"
      ]
     },
     "execution_count": 64,
     "metadata": {},
     "output_type": "execute_result"
    }
   ],
   "source": [
    "ls.pop()"
   ]
  },
  {
   "cell_type": "code",
   "execution_count": 68,
   "id": "099e5682-882e-4876-b985-d99b8409ff0e",
   "metadata": {},
   "outputs": [
    {
     "data": {
      "text/plain": [
       "(10, 100)"
      ]
     },
     "execution_count": 68,
     "metadata": {},
     "output_type": "execute_result"
    }
   ],
   "source": [
    "ls.pop(0)"
   ]
  },
  {
   "cell_type": "code",
   "execution_count": 70,
   "id": "3da0956f-4912-47ee-a1e7-32c1456e3467",
   "metadata": {},
   "outputs": [],
   "source": [
    "def fun(a,b=20):\n",
    "    print(a)\n",
    "    print(b)"
   ]
  },
  {
   "cell_type": "code",
   "execution_count": 74,
   "id": "3e737af6-bbda-41c6-ad9e-3dba0905b11e",
   "metadata": {},
   "outputs": [
    {
     "name": "stdout",
     "output_type": "stream",
     "text": [
      "1\n",
      "20\n"
     ]
    }
   ],
   "source": [
    "fun(1)"
   ]
  },
  {
   "cell_type": "code",
   "execution_count": 78,
   "id": "f3c40529-b675-4311-9e8f-d0f7db64069c",
   "metadata": {},
   "outputs": [
    {
     "name": "stdout",
     "output_type": "stream",
     "text": [
      "5\n",
      "10\n"
     ]
    }
   ],
   "source": [
    "fun(5,10)"
   ]
  },
  {
   "cell_type": "markdown",
   "id": "bbe43da7-0cd1-4879-91c2-ec4bca86fe36",
   "metadata": {},
   "source": [
    "## key word argument "
   ]
  },
  {
   "cell_type": "code",
   "execution_count": 83,
   "id": "94c46201-8516-4569-877e-5dde2c2270bc",
   "metadata": {},
   "outputs": [],
   "source": [
    "def user_details(name,age,address):\n",
    "    print(f\"user_name:{name}\")\n",
    "    print(f\"user_age:{age}\")\n",
    "    print(f\"user_address:{address}\")  ## formal arguments "
   ]
  },
  {
   "cell_type": "code",
   "execution_count": 85,
   "id": "86a95bba-d1e8-487d-99cb-f16c03720507",
   "metadata": {},
   "outputs": [
    {
     "name": "stdout",
     "output_type": "stream",
     "text": [
      "user_name:25\n",
      "user_age:aman\n",
      "user_address:jaipur\n"
     ]
    }
   ],
   "source": [
    "user_details(25,\"aman\",'jaipur')"
   ]
  },
  {
   "cell_type": "code",
   "execution_count": 89,
   "id": "3126840f-40f3-463e-8832-4d4730054d7d",
   "metadata": {},
   "outputs": [
    {
     "name": "stdout",
     "output_type": "stream",
     "text": [
      "user_name:aman\n",
      "user_age:25\n",
      "user_address:jaipu\n"
     ]
    }
   ],
   "source": [
    "user_details(age=25,name=\"aman\",address=\"jaipu\")"
   ]
  },
  {
   "cell_type": "markdown",
   "id": "f99ea663-d42a-48d5-9413-3bed6a5fda52",
   "metadata": {},
   "source": [
    "## variable length argument "
   ]
  },
  {
   "cell_type": "code",
   "execution_count": 92,
   "id": "0dda4560-c87f-4f94-8ea3-b17e6103b806",
   "metadata": {},
   "outputs": [],
   "source": [
    "def demo(a,b):\n",
    "    return a+b"
   ]
  },
  {
   "cell_type": "code",
   "execution_count": 94,
   "id": "c8230c49-e5c2-40ae-8185-f32c73496f22",
   "metadata": {},
   "outputs": [
    {
     "data": {
      "text/plain": [
       "10"
      ]
     },
     "execution_count": 94,
     "metadata": {},
     "output_type": "execute_result"
    }
   ],
   "source": [
    "demo(5,5)"
   ]
  },
  {
   "cell_type": "code",
   "execution_count": 96,
   "id": "1afa349b-b14e-4fa5-a93e-61a449dc87a3",
   "metadata": {},
   "outputs": [],
   "source": [
    "def demo(*var):\n",
    "    print(var)"
   ]
  },
  {
   "cell_type": "code",
   "execution_count": 98,
   "id": "a68ac2c8-2b9c-4dea-a6bc-73c4f0305581",
   "metadata": {},
   "outputs": [
    {
     "name": "stdout",
     "output_type": "stream",
     "text": [
      "()\n"
     ]
    }
   ],
   "source": [
    "demo()"
   ]
  },
  {
   "cell_type": "code",
   "execution_count": 100,
   "id": "d486698e-92cf-4934-a64b-0fabe0142dae",
   "metadata": {},
   "outputs": [
    {
     "name": "stdout",
     "output_type": "stream",
     "text": [
      "(1, 5, 2, 5, 4, 5, 2, 5)\n"
     ]
    }
   ],
   "source": [
    "demo(1,5,2,5,4,5,2,5)"
   ]
  },
  {
   "cell_type": "code",
   "execution_count": null,
   "id": "f654f781-0ee1-4a71-b573-8474f71f10ef",
   "metadata": {},
   "outputs": [],
   "source": [
    "def demo(*var):\n",
    "    print(var)"
   ]
  }
 ],
 "metadata": {
  "kernelspec": {
   "display_name": "Python 3 (ipykernel)",
   "language": "python",
   "name": "python3"
  },
  "language_info": {
   "codemirror_mode": {
    "name": "ipython",
    "version": 3
   },
   "file_extension": ".py",
   "mimetype": "text/x-python",
   "name": "python",
   "nbconvert_exporter": "python",
   "pygments_lexer": "ipython3",
   "version": "3.12.3"
  }
 },
 "nbformat": 4,
 "nbformat_minor": 5
}
