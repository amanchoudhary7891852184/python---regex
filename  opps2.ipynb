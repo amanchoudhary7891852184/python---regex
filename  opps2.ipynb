{
 "cells": [
  {
   "cell_type": "markdown",
   "id": "972fcfc2-62d3-4696-80aa-311b70ab6d18",
   "metadata": {},
   "source": [
    "## caluclator "
   ]
  },
  {
   "cell_type": "code",
   "execution_count": 7,
   "id": "d35c6eaa-b215-48fc-9b50-80d9872ecfae",
   "metadata": {},
   "outputs": [
    {
     "name": "stdout",
     "output_type": "stream",
     "text": [
      "12\n",
      "8\n",
      "12\n",
      "5.0\n"
     ]
    }
   ],
   "source": [
    "class caluclator:\n",
    "    def __init__(self,num1,num2):\n",
    "        self.num1=num1\n",
    "        self.num2=num2\n",
    "    def add(self):\n",
    "        return self.num1+self.num2\n",
    "    def sub(self):\n",
    "        return self.num1-self.num2\n",
    "    def mult(self):\n",
    "        return self.num1 * self.num2\n",
    "    def mult(self):\n",
    "        return self.num1+self.num2\n",
    "    def div(self):\n",
    "        if self.num2!=0:\n",
    "            return self.num1/self.num2\n",
    "        else:\n",
    "            return \"error\"\n",
    "a=caluclator(10,2)\n",
    "print(a.add())\n",
    "print(a.sub())\n",
    "print(a.mult())\n",
    "print(a.div())"
   ]
  },
  {
   "cell_type": "markdown",
   "id": "9ebd8b83-3671-4c79-aa15-f5b06d19b020",
   "metadata": {},
   "source": [
    "## bankaccount "
   ]
  },
  {
   "cell_type": "code",
   "execution_count": 1,
   "id": "bcc17716-372a-4d31-aeb6-9d9d40c4f3be",
   "metadata": {},
   "outputs": [
    {
     "name": "stdout",
     "output_type": "stream",
     "text": [
      "500 deposited. New balance: 1500\n",
      "300 withdrawn. Remaining balance: 1200\n",
      "Account balance for Saurabh: 1200\n"
     ]
    }
   ],
   "source": [
    "class BankAccount:\n",
    "    def __init__(self, holder_name, balance=0):\n",
    "        self.holder_name = holder_name\n",
    "        self.balance = balance\n",
    "\n",
    "    def deposit(self, amount):\n",
    "        self.balance += amount\n",
    "        print(f\"{amount} deposited. New balance: {self.balance}\")\n",
    "    def withdraw(self, amount):\n",
    "        if amount <= self.balance:\n",
    "            self.balance -= amount  \n",
    "            print(f\"{amount} withdrawn. Remaining balance: {self.balance}\")\n",
    "        else:\n",
    "            print(\"Insufficient funds!\")\n",
    "\n",
    "    def check_balance(self):\n",
    "        return f\"Account balance for {self.holder_name}: {self.balance}\"\n",
    "    \n",
    "account = BankAccount(\"Saurabh\", 1000)\n",
    "account.deposit(500)\n",
    "account.withdraw(300)\n",
    "print(account.check_balance())"
   ]
  },
  {
   "cell_type": "code",
   "execution_count": null,
   "id": "7c5fd350-c13a-4911-a62f-05b0b9359d42",
   "metadata": {},
   "outputs": [],
   "source": []
  },
  {
   "cell_type": "markdown",
   "id": "f292ad60-64ba-444d-bb15-2e6b0a801b87",
   "metadata": {},
   "source": [
    "## student marks "
   ]
  },
  {
   "cell_type": "code",
   "execution_count": 5,
   "id": "09d35d65-a737-4bcc-9614-6bc28396ddd8",
   "metadata": {},
   "outputs": [
    {
     "name": "stdout",
     "output_type": "stream",
     "text": [
      "Name: aman\n",
      "Age: 17\n",
      "Marks: 78\n",
      "Status: Passed\n"
     ]
    }
   ],
   "source": [
    "class Student:\n",
    "    def __init__(self, name, age, marks):\n",
    "        self.name = name\n",
    "        self.age = age\n",
    "        self.marks = marks\n",
    "\n",
    "    def display_details(self):\n",
    "        print(f\"Name: {self.name}\")\n",
    "        print(f\"Age: {self.age}\")\n",
    "        print(f\"Marks: {self.marks}\")\n",
    "\n",
    "    def ps(self):\n",
    "        if self.marks >= 40:\n",
    "            print(\"Status: Passed\")\n",
    "        else:\n",
    "            print(\"Status: Failed\")\n",
    "            \n",
    "student1 = Student(\"aman\", 17, 78)\n",
    "student1.display_details()\n",
    "student1.ps()\n"
   ]
  },
  {
   "cell_type": "code",
   "execution_count": null,
   "id": "ac9a190c-4a14-4fba-9b49-aa514058e472",
   "metadata": {},
   "outputs": [],
   "source": []
  }
 ],
 "metadata": {
  "kernelspec": {
   "display_name": "Python 3 (ipykernel)",
   "language": "python",
   "name": "python3"
  },
  "language_info": {
   "codemirror_mode": {
    "name": "ipython",
    "version": 3
   },
   "file_extension": ".py",
   "mimetype": "text/x-python",
   "name": "python",
   "nbconvert_exporter": "python",
   "pygments_lexer": "ipython3",
   "version": "3.12.3"
  }
 },
 "nbformat": 4,
 "nbformat_minor": 5
}
