{
 "cells": [
  {
   "cell_type": "markdown",
   "id": "7134e85c-0865-4726-ac7f-764d282d51db",
   "metadata": {},
   "source": [
    "# Beginner"
   ]
  },
  {
   "cell_type": "code",
   "execution_count": null,
   "id": "ad23550e-dcbc-43fd-965f-42fc0af0aed3",
   "metadata": {},
   "outputs": [],
   "source": [
    "Write a Python program to find the maximum element in a list of numbers without\n",
    "max functions\n",
    "numbers = [10, 20, 4, 45, 99]\n",
    "The maximum element is: 99"
   ]
  },
  {
   "cell_type": "code",
   "execution_count": 3,
   "id": "cf6026d6-ed03-445d-9b1e-c31c8867c409",
   "metadata": {},
   "outputs": [
    {
     "name": "stdout",
     "output_type": "stream",
     "text": [
      "max= 99\n",
      "min= 4\n"
     ]
    }
   ],
   "source": [
    "numbers = [10, 20, 4, 45, 99]\n",
    "max=numbers[0]\n",
    "min=numbers[0]\n",
    "t=0\n",
    "for i in range(0,len(numbers)): \n",
    "     if(max<numbers[i]):\n",
    "         max=numbers[i]\n",
    "     if (min>numbers[i]):\n",
    "         min=numbers[i]\n",
    "print(\"max=\",max)\n",
    "print(\"min=\",min)"
   ]
  },
  {
   "cell_type": "code",
   "execution_count": null,
   "id": "890bf321-be8c-4d51-a72b-e881f58d1a2b",
   "metadata": {},
   "outputs": [],
   "source": [
    "2. Write a Python program to sum all the elements in a list of numbers.\n",
    "a. numbers = [10, 20, 30, 40]\n",
    "b. The sum of all elements is: 100"
   ]
  },
  {
   "cell_type": "code",
   "execution_count": 13,
   "id": "e3f9a281-298d-47a1-9250-d3e94f6d7b25",
   "metadata": {},
   "outputs": [
    {
     "name": "stdout",
     "output_type": "stream",
     "text": [
      "100\n"
     ]
    }
   ],
   "source": [
    "numbers = [10, 20, 30, 40]\n",
    "s=0\n",
    "for i in range(0,len(numbers)):\n",
    "    s+=numbers[i]\n",
    "print(s)"
   ]
  },
  {
   "cell_type": "code",
   "execution_count": null,
   "id": "b7ec6b2c-bd15-4907-8692-47a1b0280b3e",
   "metadata": {},
   "outputs": [],
   "source": [
    "Write a Python program to reverse a list without reverse or slicing operator\n",
    "a. numbers = [1, 2, 3, 4, 5]\n",
    "b. Reversed list: [5, 4, 3, 2, 1]"
   ]
  },
  {
   "cell_type": "code",
   "execution_count": 19,
   "id": "c891b2f3-265a-4842-a001-843b5578fce3",
   "metadata": {},
   "outputs": [
    {
     "name": "stdout",
     "output_type": "stream",
     "text": [
      "[5, 4, 3, 2, 1]\n"
     ]
    }
   ],
   "source": [
    "ls = [1, 2, 3, 4, 5]\n",
    "t=0\n",
    "for i in range(0,len(ls)):\n",
    "    for j in range(i+1,len(ls)):\n",
    "        if ls[i]<ls[j]:\n",
    "            t=ls[i]\n",
    "            ls[i]=ls[j]\n",
    "            ls[j]=t\n",
    "print(ls)"
   ]
  },
  {
   "cell_type": "code",
   "execution_count": null,
   "id": "8de8e26a-e5e3-4706-862f-8747edfe9118",
   "metadata": {},
   "outputs": [],
   "source": [
    "4. Write a Python program to sort a list in ascending order without sort functions"
   ]
  },
  {
   "cell_type": "code",
   "execution_count": 21,
   "id": "1f8d7427-7389-47d1-b5e0-4cb107965ab2",
   "metadata": {},
   "outputs": [
    {
     "name": "stdout",
     "output_type": "stream",
     "text": [
      "ls= [-1, 0, 2, 8, 10, 20, 40, 54]\n"
     ]
    }
   ],
   "source": [
    "ls=[10,20,8,2,40,0,-1,54]\n",
    "for i in range(0,len(ls)):\n",
    "    for j in range(i+1,len(ls)):\n",
    "       if(ls[i]>ls[j]):\n",
    "           t=ls[i]\n",
    "           ls[i]=ls[j]\n",
    "           ls[j]=t\n",
    "print(\"ls=\",ls)"
   ]
  },
  {
   "cell_type": "code",
   "execution_count": null,
   "id": "4545c33d-aa84-4baa-8c6b-a14e58f8903c",
   "metadata": {},
   "outputs": [],
   "source": [
    "Write a Python program to remove duplicates from a list while maintaining the order\n",
    "of elements.\n",
    "a. numbers = [1, 2, 2, 3, 4, 4, 5]\n",
    "b. List after removing duplicates: [1, 2, 3, 4, 5]"
   ]
  },
  {
   "cell_type": "code",
   "execution_count": 27,
   "id": "5439933f-5b73-49da-8024-3099eac5f1e1",
   "metadata": {},
   "outputs": [
    {
     "name": "stdout",
     "output_type": "stream",
     "text": [
      "[1, 2, 3, 4, 5]\n"
     ]
    }
   ],
   "source": [
    "ls=[1, 2, 2, 3, 4, 4, 5]\n",
    "ls1=[]\n",
    "for i in range(len(ls)):\n",
    "    if (ls[i] not in ls1):\n",
    "        ls1.append(ls[i])\n",
    "print(ls1)\n",
    "        "
   ]
  },
  {
   "cell_type": "code",
   "execution_count": null,
   "id": "85acbd2e-a974-4e5c-b4a5-9300944a79d5",
   "metadata": {},
   "outputs": [],
   "source": [
    "6. Write a Python program to find all pairs of numbers in a list that add up to a specific\n",
    "target sum.\n",
    "a. numbers = [1, 2, 3, 4, 3, 5, 6] target_sum = 6\n",
    "b. Pairs that add up to 6: [(3, 3), (2, 4), (1, 5)]"
   ]
  },
  {
   "cell_type": "code",
   "execution_count": 45,
   "id": "66305081-69a1-4cb7-b8e4-8678d6f09ec3",
   "metadata": {},
   "outputs": [
    {
     "name": "stdout",
     "output_type": "stream",
     "text": [
      "[(1, 5)][(2, 4)][(3, 3)]"
     ]
    }
   ],
   "source": [
    "ls= [1, 2, 3, 4, 3, 5, 6]\n",
    "target = 6\n",
    "for i in range(0,len(ls)):                            \n",
    "    for j in range(i+1,len(ls)):\n",
    "        if(ls[i] + ls[j] == target):\n",
    "            print([(ls[i],ls[j])],end=\"\")"
   ]
  },
  {
   "cell_type": "code",
   "execution_count": null,
   "id": "6f85b07d-f33d-490d-96b3-5b7694574a02",
   "metadata": {},
   "outputs": [],
   "source": [
    "Write a Python program to flatten a nested list (list within lists) into a single list.\n",
    "a. nested_list = [1, [2, 3], [4, [5, 6], 7], 8]\n",
    "b. ls1: [1, 2, 3, 4, 5, 6, 7, 8]"
   ]
  },
  {
   "cell_type": "code",
   "execution_count": 83,
   "id": "7cc8a7d8-88c7-420f-9795-8dc7a0363f53",
   "metadata": {},
   "outputs": [
    {
     "ename": "TypeError",
     "evalue": "'int' object is not iterable",
     "output_type": "error",
     "traceback": [
      "\u001b[1;31m---------------------------------------------------------------------------\u001b[0m",
      "\u001b[1;31mTypeError\u001b[0m                                 Traceback (most recent call last)",
      "Cell \u001b[1;32mIn[83], line 4\u001b[0m\n\u001b[0;32m      2\u001b[0m ls1\u001b[38;5;241m=\u001b[39m[]\n\u001b[0;32m      3\u001b[0m \u001b[38;5;28;01mfor\u001b[39;00m i \u001b[38;5;129;01min\u001b[39;00m ls:\n\u001b[1;32m----> 4\u001b[0m     \u001b[38;5;28;01mfor\u001b[39;00m j \u001b[38;5;129;01min\u001b[39;00m i:\n\u001b[0;32m      5\u001b[0m         ls1\u001b[38;5;241m.\u001b[39mappend(j)\n\u001b[0;32m      6\u001b[0m \u001b[38;5;28mprint\u001b[39m(ls1)\n",
      "\u001b[1;31mTypeError\u001b[0m: 'int' object is not iterable"
     ]
    }
   ],
   "source": [
    "ls = [1, [2, 3], [4, [5, 6], 7], 8]\n",
    "ls1=[]\n",
    "for i in ls:\n",
    "    for j in i:\n",
    "        ls1.append(j)\n",
    "print(ls1)"
   ]
  },
  {
   "cell_type": "code",
   "execution_count": 79,
   "id": "949c93ab-89a8-4c1e-bd3c-c57a2b2a6bdd",
   "metadata": {},
   "outputs": [
    {
     "name": "stdout",
     "output_type": "stream",
     "text": [
      "[1, 2, 3, 4, 5, 6, 7]\n"
     ]
    }
   ],
   "source": [
    "my_list = [[1], [2, 3], [4, 5, 6, 7]]\n",
    "\n",
    "flat_list = []\n",
    "for sublist in my_list:\n",
    "    for num in sublist:\n",
    "        flat_list.append(num)\n",
    "\n",
    "print(flat_list)"
   ]
  },
  {
   "cell_type": "code",
   "execution_count": null,
   "id": "fcda3191-4893-45de-b774-a17250fc094e",
   "metadata": {},
   "outputs": [],
   "source": [
    "Write a Python program to find the sum of the elements in a list, excluding the largest\n",
    "and smallest element. Don’t use max or min functions\n",
    "a. numbers = [1, 2, 3, 4, 5]\n",
    "b. Sum excluding the largest and smallest element: 9"
   ]
  },
  {
   "cell_type": "code",
   "execution_count": 87,
   "id": "7693e4fa-0cd3-4a02-8e25-3448aa7d9e04",
   "metadata": {},
   "outputs": [
    {
     "name": "stdout",
     "output_type": "stream",
     "text": [
      "max= 5\n",
      "min= 1\n",
      "9\n"
     ]
    }
   ],
   "source": [
    "ls = [1, 2, 3, 4, 5]\n",
    "max=ls[0]\n",
    "min=ls[0]\n",
    "s=0\n",
    "for i in range(0,len(ls)): \n",
    "     if(max<ls[i]):\n",
    "         max=ls[i]\n",
    "     if (min>ls[i]):\n",
    "         min=ls[i]\n",
    "print(\"max=\",max)\n",
    "print(\"min=\",min)\n",
    "for i in range(len(ls)):\n",
    "    if (ls[i]!=max and ls[i]!=min):\n",
    "        s+=ls[i]\n",
    "print(s)"
   ]
  },
  {
   "cell_type": "markdown",
   "id": "3beb8d63-357c-401e-a733-d4963afaeb30",
   "metadata": {},
   "source": [
    "# Intermediate"
   ]
  },
  {
   "cell_type": "code",
   "execution_count": null,
   "id": "30d2e36f-67c6-4900-a7f2-9e9c0a36dfa2",
   "metadata": {},
   "outputs": [],
   "source": [
    "Write a Python program to check if a list is a palindrome (reads the same backward\n",
    "as forward) using two pointer approach\n",
    "a. numbers = [1, 2, 3, 2, 1]\n",
    "b. True"
   ]
  },
  {
   "cell_type": "code",
   "execution_count": 91,
   "id": "f58c72ed-efd9-4564-b4cf-55a8d80b8396",
   "metadata": {},
   "outputs": [
    {
     "name": "stdout",
     "output_type": "stream",
     "text": [
      "True\n"
     ]
    }
   ],
   "source": [
    "ls = [1, 2, 3, 2, 1]\n",
    "start = 0\n",
    "end = len(ls)-1\n",
    "palindrome = True \n",
    "while (start<end):\n",
    "    if ls[start] != ls[end] :\n",
    "        palindrome = False \n",
    "        break\n",
    "\n",
    "    start+=1\n",
    "    end-=1\n",
    "\n",
    "print(palindrome)"
   ]
  },
  {
   "cell_type": "code",
   "execution_count": null,
   "id": "8da06d09-9a1d-4ace-880c-18b576029d89",
   "metadata": {},
   "outputs": [],
   "source": [
    "10. Write a function to remove duplicate elements from a list.\n",
    "a. numbers = [1, 2, 3, 2, 4, 5, 1, 6]\n",
    "b. [1, 2, 3, 4, 5, 6]"
   ]
  },
  {
   "cell_type": "code",
   "execution_count": 93,
   "id": "6d8d5a73-f72b-49c6-af4a-d6ae714a7595",
   "metadata": {},
   "outputs": [
    {
     "name": "stdout",
     "output_type": "stream",
     "text": [
      "[1, 2, 3, 4, 5, 6]\n"
     ]
    }
   ],
   "source": [
    "ls = [1, 2, 3, 2, 4, 5, 1, 6]\n",
    "ls1=[]\n",
    "for i in range(len(ls)):\n",
    "    if (ls[i] not in ls1):\n",
    "        ls1.append(ls[i])\n",
    "print(ls1)\n",
    "        "
   ]
  },
  {
   "cell_type": "code",
   "execution_count": null,
   "id": "1338e2fd-b3c9-4f74-a409-16baaaa7b570",
   "metadata": {},
   "outputs": [],
   "source": [
    "11. Find Common Elements in Two Lists\n",
    "a. list1 = [1, 2, 3, 4, 5]\n",
    "b. list2 = [3, 4, 5, 6, 7]\n",
    "c. Result: [3, 4, 5]"
   ]
  },
  {
   "cell_type": "code",
   "execution_count": 133,
   "id": "00a95cb8-5a3f-4879-ae29-9207a14595a6",
   "metadata": {},
   "outputs": [
    {
     "name": "stdout",
     "output_type": "stream",
     "text": [
      "[3, 4, 5] common\n"
     ]
    }
   ],
   "source": [
    "ls=[]\n",
    "ls1 = [1, 2, 3, 4, 5]\n",
    "ls2 = [3, 4, 5, 6, 7]\n",
    "for i in ls1:\n",
    "    for j in ls2:\n",
    "        if i==j:\n",
    "            ls.append(i)\n",
    "print(ls,\"common\")"
   ]
  },
  {
   "cell_type": "code",
   "execution_count": null,
   "id": "5d960dfc-4d3f-4e4d-9095-1af0f4dd649c",
   "metadata": {},
   "outputs": [],
   "source": [
    "12. Find the Longest Word in a List\n",
    "a. words = [\"apple\", \"banana\", \"strawberry\", \"kiwi\"]\n",
    "b. Strawberry"
   ]
  },
  {
   "cell_type": "code",
   "execution_count": 135,
   "id": "be6ab80a-9dc8-4653-ae2d-7e2e224a2ce3",
   "metadata": {},
   "outputs": [
    {
     "name": "stdout",
     "output_type": "stream",
     "text": [
      "strawberry\n"
     ]
    }
   ],
   "source": [
    "words = [\"apple\", \"banana\", \"strawberry\", \"kiwi\"]\n",
    "ls =\"\"\n",
    "for i in words:\n",
    "    if len(i) >len(ls):\n",
    "        ls = i\n",
    "\n",
    "print(ls)"
   ]
  },
  {
   "cell_type": "markdown",
   "id": "45f70fd6-f7c5-4373-9d74-d4a5b28cf42f",
   "metadata": {},
   "source": [
    "## Advanced"
   ]
  },
  {
   "cell_type": "code",
   "execution_count": null,
   "id": "43dc10b3-c6c6-4bf6-b1f7-7a7f08b4c1e6",
   "metadata": {},
   "outputs": [],
   "source": []
  }
 ],
 "metadata": {
  "kernelspec": {
   "display_name": "Python 3 (ipykernel)",
   "language": "python",
   "name": "python3"
  },
  "language_info": {
   "codemirror_mode": {
    "name": "ipython",
    "version": 3
   },
   "file_extension": ".py",
   "mimetype": "text/x-python",
   "name": "python",
   "nbconvert_exporter": "python",
   "pygments_lexer": "ipython3",
   "version": "3.12.3"
  }
 },
 "nbformat": 4,
 "nbformat_minor": 5
}
