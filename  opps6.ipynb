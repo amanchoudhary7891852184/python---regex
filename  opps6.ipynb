{
 "cells": [
  {
   "cell_type": "markdown",
   "id": "50ee9c58-5ddf-47a5-8b55-e56d24641b1f",
   "metadata": {},
   "source": [
    "## CASE STUDY 1 : Payement Processing System\n",
    "imagine a payment processing system for an e-commerce application .The system can handle credit cards, pay pal and bank transfers. Each payement method has a different imlementation the system treats them unfirmoly through ploymorphism ."
   ]
  },
  {
   "cell_type": "code",
   "execution_count": 22,
   "id": "021820ef-d0f6-48a2-8ac3-fe9041421a14",
   "metadata": {},
   "outputs": [
    {
     "name": "stdout",
     "output_type": "stream",
     "text": [
      " process credit card payment of 100\n",
      "process paypal payment of 200\n",
      "process bank transfer payment 100\n"
     ]
    }
   ],
   "source": [
    "class paymentmethod:\n",
    "    def process_payment(self,amount):\n",
    "        raise notimplementederror(\"subclass must implement this method :\")\n",
    "class creditcardpayment(paymentmethod):\n",
    "    def process_payment(self,amount):\n",
    "        print(f\" process credit card payment of {amount}\")\n",
    "class paypalpayment(paymentmethod):\n",
    "    def process_payment(self,amount):\n",
    "        print(f\"process paypal payment of {amount}\")\n",
    "class banktransferpayment(paymentmethod):\n",
    "    def process_payment(self,amount):\n",
    "        print(f\"process bank transfer payment {amount}\")\n",
    "def process_transaction(payment_method,amount):\n",
    "    payment_method.process_payment(amount)\n",
    "if __name__==\"__main__\":\n",
    "    credit_card= creditcardpayment()\n",
    "    paypal=paypalpayment()\n",
    "    bank_transfer=banktransferpayment()\n",
    "\n",
    "    process_transaction(credit_card,100)\n",
    "    process_transaction(paypal,200)\n",
    "    process_transaction(bank_transfer,100)\n",
    "    \n",
    "        "
   ]
  },
  {
   "cell_type": "markdown",
   "id": "6dac09ea-bcc4-43ed-a8dd-dcd8ab600ac0",
   "metadata": {},
   "source": [
    "## emplooyee salary\n",
    "In a company, there are different types of employees, such as full-time employees, part-time employees, and freelancers. \n",
    "Each type of employee has a different way of calculating their salary. \n",
    "Polymorphism can be used to handle this scenario by defining a common interface for salary calculation and letting each employee \n",
    "type implement their specific logic."
   ]
  },
  {
   "cell_type": "code",
   "execution_count": 47,
   "id": "87b6586b-6bde-4fa1-9648-d01948ff8055",
   "metadata": {},
   "outputs": [
    {
     "name": "stdout",
     "output_type": "stream",
     "text": [
      "full-time employee:\n",
      "salary: 5000\n",
      "part time employee:\n",
      "salary: 1600\n",
      "freeelancer :\n",
      "salary: 3000\n"
     ]
    }
   ],
   "source": [
    "class employee:\n",
    "    def calculate_salary(self):\n",
    "        raise notimplementederror(\"subclass must implement this method:\")\n",
    "class fulltimeemployee(employee):\n",
    "    def __init__(self,monthly_salary):\n",
    "        self.monthly_salary=monthly_salary\n",
    "    def calculate_salary(self):\n",
    "        return self.monthly_salary\n",
    "class parttimeemployee(employee):\n",
    "    def __init__(self,hourly_rate,hourly_worked):\n",
    "        self.hourly_rate=hourly_rate\n",
    "        self.hourly_worked=hourly_worked\n",
    "    def calculate_salary(self):\n",
    "        return self.hourly_rate*self.hourly_worked\n",
    "\n",
    "class freelancer(employee):\n",
    "    def __init__(self,project_rate):\n",
    "        self.project_rate=project_rate\n",
    "    def calculate_salary(self):\n",
    "        return self.project_rate\n",
    "def display_employee_salary(employee):\n",
    "    print(f\"salary: {employee.calculate_salary()}\")\n",
    "if __name__==\"__main__\":\n",
    "    full_timeemployee=fulltimeemployee(monthly_salary=5000)\n",
    "    part_timeemployee=parttimeemployee(hourly_rate=20,hourly_worked=80)\n",
    "    freelancer=freelancer(project_rate=3000)\n",
    "    print(\"full-time employee:\")\n",
    "    display_employee_salary(full_timeemployee)\n",
    "    print(\"part time employee:\")\n",
    "    display_employee_salary(part_timeemployee)\n",
    "    print(\"freeelancer :\")\n",
    "    display_employee_salary(freelancer)\n"
   ]
  },
  {
   "cell_type": "code",
   "execution_count": null,
   "id": "34f88e2f-457e-4441-9dd3-c476c642928c",
   "metadata": {},
   "outputs": [],
   "source": []
  }
 ],
 "metadata": {
  "kernelspec": {
   "display_name": "Python 3 (ipykernel)",
   "language": "python",
   "name": "python3"
  },
  "language_info": {
   "codemirror_mode": {
    "name": "ipython",
    "version": 3
   },
   "file_extension": ".py",
   "mimetype": "text/x-python",
   "name": "python",
   "nbconvert_exporter": "python",
   "pygments_lexer": "ipython3",
   "version": "3.12.3"
  }
 },
 "nbformat": 4,
 "nbformat_minor": 5
}
