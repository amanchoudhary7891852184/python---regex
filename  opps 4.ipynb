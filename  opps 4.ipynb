{
 "cells": [
  {
   "cell_type": "markdown",
   "id": "97ee0929-8fe1-422c-b348-f12e6c70967f",
   "metadata": {},
   "source": [
    "## inheritance in opps\n",
    "  It is a fundamentsl concepts .\n",
    " In oops it allows a class \"child class\" tp inherit attributes and methods from another class \"Parent class\". \n",
    "\n",
    " this promotes code reuseablity and modularity.\n",
    "\n",
    " KEY BENEFITS OF INHERITANCE:->\n",
    "\n",
    " 1) Code Reuseablity --> the child class can reuse the code in the parent class.\n",
    " 2) Extensibilty --> the child class can add or modify functionality of the parent class.\n",
    " 3) Hierarchical structure --> Relationship btw classes are more organized.\n",
    "\n",
    "# TYPES OF INHERITANCE :-->\n",
    "\n",
    " 1) single inheritance -> A child class inherits from one parent class.\n",
    " 2) Multiple inheritance --> Single child class but multiple parent class.\n",
    " 3) Multilevel Inheritance – A class inherits from a class which itself inherits from another.\n",
    "                # a child class inherit form a parent classs and that parent class inherit from another parent class."
   ]
  },
  {
   "cell_type": "code",
   "execution_count": 121,
   "id": "c4d678a1-d5d0-42bf-8f61-0a9da4aef4bf",
   "metadata": {},
   "outputs": [
    {
     "name": "stdout",
     "output_type": "stream",
     "text": [
      "name of location kota\n"
     ]
    },
    {
     "ename": "NameError",
     "evalue": "name 'manager' is not defined",
     "output_type": "error",
     "traceback": [
      "\u001b[1;31m---------------------------------------------------------------------------\u001b[0m",
      "\u001b[1;31mNameError\u001b[0m                                 Traceback (most recent call last)",
      "Cell \u001b[1;32mIn[121], line 10\u001b[0m\n\u001b[0;32m      8\u001b[0m sam\u001b[38;5;241m=\u001b[39memployee(\u001b[38;5;124m\"\u001b[39m\u001b[38;5;124mkota\u001b[39m\u001b[38;5;124m\"\u001b[39m)\n\u001b[0;32m      9\u001b[0m sam\u001b[38;5;241m.\u001b[39mget_location()\n\u001b[1;32m---> 10\u001b[0m mohit\u001b[38;5;241m=\u001b[39mmanager(\u001b[38;5;124m\"\u001b[39m\u001b[38;5;124mjaipur\u001b[39m\u001b[38;5;124m\"\u001b[39m)\n",
      "\u001b[1;31mNameError\u001b[0m: name 'manager' is not defined"
     ]
    }
   ],
   "source": [
    "class employee:\n",
    "    def __init__(self,location):\n",
    "        self.location=location\n",
    "    def get_location(self):\n",
    "        print(f\"name of location {self.location}\")\n",
    "    def manager (employ):\n",
    "        print(\"project is scheduled..\")\n",
    "sam=employee(\"kota\")\n",
    "sam.get_location()\n",
    "mohit=manager(\"jaipur\")\n",
    "\n"
   ]
  },
  {
   "cell_type": "markdown",
   "id": "b1f8305a-1d4a-4942-99cb-0d4cad9621a7",
   "metadata": {},
   "source": [
    "## multiple  inheritance"
   ]
  },
  {
   "cell_type": "code",
   "execution_count": 14,
   "id": "c1ebf175-2e59-4972-b88f-bc969342d200",
   "metadata": {},
   "outputs": [
    {
     "name": "stdout",
     "output_type": "stream",
     "text": [
      "Engine started.\n",
      "Wheels are rotating.\n",
      "Car is driving.\n"
     ]
    }
   ],
   "source": [
    "class Engine:\n",
    "    def start_engine(self): ## parent class\n",
    "        print(\"Engine started.\")\n",
    "\n",
    "class Wheels:\n",
    "    def rotate_wheels(self):\n",
    "        print(\"Wheels are rotating.\") ## parent class \n",
    "\n",
    "class Car(Engine, Wheels):  # Inheriting from Engine and Wheels\n",
    "    def drive(self):# child class \n",
    "        print(\"Car is driving.\")\n",
    "\n",
    "# Usage\n",
    "my_car = Car()\n",
    "my_car.start_engine()     # Method from Engine\n",
    "my_car.rotate_wheels()    # Method from Wheels\n",
    "my_car.drive()            # Method from Car\n",
    "\n"
   ]
  },
  {
   "cell_type": "markdown",
   "id": "00297a39-da47-40ac-b0c5-e977f66e7e6b",
   "metadata": {},
   "source": [
    "## multi"
   ]
  },
  {
   "cell_type": "code",
   "execution_count": 23,
   "id": "c3472895-3660-4949-942b-e30a0a0903f5",
   "metadata": {},
   "outputs": [
    {
     "name": "stdout",
     "output_type": "stream",
     "text": [
      "animal is eating :\n",
      "dog is barking\n",
      "puppy is weeping\n"
     ]
    }
   ],
   "source": [
    "class animal:\n",
    "    def eat(self):\n",
    "        print(\"animal is eating :\")\n",
    "class dog(animal):\n",
    "    def bark(self):\n",
    "        print(\"dog is barking\")\n",
    "class puppy(dog):\n",
    "    def weep(self):\n",
    "        print(\"puppy is weeping\")\n",
    "puppy=puppy()\n",
    "puppy.eat()\n",
    "puppy.bark()\n",
    "puppy.weep()"
   ]
  },
  {
   "attachments": {},
   "cell_type": "markdown",
   "id": "31505eac-ea37-4c07-8e2a-f10eacebf0ad",
   "metadata": {},
   "source": [
    "## class method"
   ]
  },
  {
   "cell_type": "code",
   "execution_count": 80,
   "id": "502e8c85-ce7a-4a10-a1ae-f746bdcb012f",
   "metadata": {},
   "outputs": [
    {
     "name": "stdout",
     "output_type": "stream",
     "text": [
      "Tech Solutions\n",
      "Future Tech\n",
      "physics\n",
      "physics\n",
      "rebel\n"
     ]
    }
   ],
   "source": [
    "class Employee:\n",
    "    company_name = \"Tech Solutions\"\n",
    "\n",
    "    def __init__(self, name, salary):\n",
    "        self.name = name\n",
    "        self.salary = salary\n",
    "\n",
    "    @classmethod\n",
    "    def change_company_name(cls, new_name):\n",
    "        cls.company_name = new_name\n",
    "\n",
    "# Usage\n",
    "emp1 = Employee(\"Sam\", 50000)\n",
    "emp2 = Employee(\"Rahul\", 60000)\n",
    "emp3 = Employee(\"Sumit\", 75000) \n",
    "\n",
    "# Access the class attribute\n",
    "print(Employee.company_name)\n",
    "\n",
    "# Change the class attribute using class method\n",
    "Employee.change_company_name(\"Future Tech\")\n",
    "print(Employee.company_name)\n",
    "\n",
    "emp1.company_name\n",
    "emp1.change_company_name('physics')\n",
    "emp1.company_name\n",
    "\n",
    "print(emp2.company_name)\n",
    "print(emp3.company_name)\n",
    "emp3.change_company_name(\"rebel\")\n",
    "print(emp3.company_name)"
   ]
  },
  {
   "cell_type": "code",
   "execution_count": null,
   "id": "9cddd20a-5735-4168-b5d7-94b9d7cadf2e",
   "metadata": {},
   "outputs": [],
   "source": [
    " "
   ]
  },
  {
   "cell_type": "markdown",
   "id": "1da1828c-6fec-488c-9231-b72322430cb9",
   "metadata": {},
   "source": [
    "## E-commerce order management system\n",
    "Scenerio: you are desiging an e-commerce order system. the system include:\n",
    "\n",
    "customer class (with name and contact details)\n",
    "\n",
    "product class(with name and price).\n",
    "\n",
    "order class (that inherits customer and product to manage customer orders).\n",
    "\n",
    "Requirements:\n",
    "\n",
    "customer should store customer deatils.\n",
    "\n",
    "product should store product details.\n",
    "\n",
    "order should generate an order summuary for a customer,including product details."
   ]
  },
  {
   "cell_type": "code",
   "execution_count": 127,
   "id": "03a7a5a3-571e-4cf2-a5fc-ec2f34f2ad69",
   "metadata": {},
   "outputs": [
    {
     "name": "stdout",
     "output_type": "stream",
     "text": [
      "Order Summary for aman (Contact: 7891852184):\n",
      "- laptop: 10000\n",
      "Total: 10000.00\n"
     ]
    }
   ],
   "source": [
    "class customer:\n",
    "    def __init__(self,name,contact):\n",
    "        self.name=name\n",
    "        self.contact=contact\n",
    "class product:\n",
    "    def __init__(self,name,price):\n",
    "        self.name=name\n",
    "        self.price=price\n",
    "class order:\n",
    "    def __init__(self, customer):\n",
    "        self.customer = customer\n",
    "        self.products = []\n",
    "    def add_product(self, product):\n",
    "        self.products.append(product)\n",
    "    def generate_summary(self):\n",
    "        return f\"Order Summary for {self.name} (Contact: {self.customer.contact}):\"\n",
    "         \n",
    "customer1 = Customer(\"aman\", 7891852184)\n",
    "product1 = Product(\"laptop\", 10000)\n",
    "order = Order(customer1)\n",
    "order.add_product(product1)\n",
    "order.generate_summary()   "
   ]
  },
  {
   "cell_type": "code",
   "execution_count": 140,
   "id": "fe314c44-1f24-4b13-bcbc-8e8c42fa3d9b",
   "metadata": {},
   "outputs": [
    {
     "name": "stdout",
     "output_type": "stream",
     "text": [
      "Order Summary for aman (Contact: 7891852184):\n",
      "- laptop: 10000\n",
      "Total: 10000.00\n"
     ]
    }
   ],
   "source": [
    "class customer:\n",
    "    def __init__(self,name,contact):\n",
    "        self.name=name\n",
    "        self.contact=contact\n",
    "    def generate_summary(self):\n",
    "        return f\"Order Summary for {self.name} (Contact: {self.customer.contact}):\"\n",
    "         \n",
    "class product:\n",
    "    def __init__(self,name,price):\n",
    "        self.name=name\n",
    "        self.price=price\n",
    "class order:\n",
    "    def __init__(self, customer):\n",
    "        self.customer = customer\n",
    "        self.products = []\n",
    "    def add_product(self, product):\n",
    "        self.products.append(product)\n",
    "    \n",
    "customer1 = Customer(\"aman\", 7891852184)\n",
    "product1 = Product(\"laptop\", 10000)\n",
    "order = Order(customer1)\n",
    "order.add_product(product1)\n",
    "order.generate_summary()   "
   ]
  },
  {
   "cell_type": "code",
   "execution_count": null,
   "id": "9e661656-47a9-47f2-b018-5b84d8dd9ce9",
   "metadata": {},
   "outputs": [],
   "source": []
  }
 ],
 "metadata": {
  "kernelspec": {
   "display_name": "Python 3 (ipykernel)",
   "language": "python",
   "name": "python3"
  },
  "language_info": {
   "codemirror_mode": {
    "name": "ipython",
    "version": 3
   },
   "file_extension": ".py",
   "mimetype": "text/x-python",
   "name": "python",
   "nbconvert_exporter": "python",
   "pygments_lexer": "ipython3",
   "version": "3.12.3"
  }
 },
 "nbformat": 4,
 "nbformat_minor": 5
}
