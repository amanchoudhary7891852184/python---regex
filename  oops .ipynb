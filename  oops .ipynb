{
 "cells": [
  {
   "cell_type": "code",
   "execution_count": 9,
   "id": "ed46f12e-bcff-4a6d-bd38-e7c38c92c939",
   "metadata": {},
   "outputs": [],
   "source": [
    "# Object oriented progrmming\n",
    "# oops is a programming paradigm based on the concepts of object.\n",
    "# these object can contain data in an attributes and funcality and its methods.\n",
    "# python is a object oriented programming which means it supports oops principle like \n",
    "#  encapsulation,inheritance,ploymorphism and abstraction.\n",
    "\n",
    "# why we use oops?\n",
    "\n",
    "# 1) Reusablity  --> code can be reused through inheritance and classes reducing redandancy.\n",
    "\n",
    "# 2) MODULARITY --> programs are divided into objects making them easier to understand and maintainable.\n",
    "\n",
    "# 3) Data protection --> encapsulation helps restrict excess to access certain part of object.\n",
    "\n",
    "# 4) Polymorphism / flexibility --> it allows the same interface to intereact with different types of object.\n",
    "\n",
    "# KEY CONCEPTS OF OOPS -->\n",
    "\n",
    "# 1) Class --> a class is a blueprint for creating objects it defines a structure to hold \n",
    "#               data(attributes) and fucntions(methods) related to that object.\n",
    "\n",
    "\n",
    "# 2) Objects --> an objects is instance of a class it represent a sepcific entity created using the class blueprint.\n",
    "\n",
    "# 3) Self Keyword --> self is reference to the current instance of class it allows as to access the object attributes \n",
    "#    and methods it must the first parameter in instance methods when calling a method self is passed automatically.\n",
    "\n",
    "#  WHAT HAPPEN WHEN WE DONTUSE ?\n",
    "\n",
    "# the method will not have a will to refer to the object calling will. python will raise a error when trying to aceess\n",
    "# instance attributes or methods inside the class as they are not explicity connected to the instance."
   ]
  },
  {
   "cell_type": "code",
   "execution_count": 18,
   "id": "93c14880-5764-4d46-852e-197b6e48b28b",
   "metadata": {},
   "outputs": [
    {
     "name": "stdout",
     "output_type": "stream",
     "text": [
      "name of student is :aman and branch cs and year if third\n"
     ]
    }
   ],
   "source": [
    "class student:\n",
    "    def __init__(self,name,branch,semester):\n",
    "        self.name= name\n",
    "        self.branch= branch\n",
    "        self.semester=semester\n",
    "    def getinfo(self):\n",
    "        print(f\"name of student is :{self.name} and branch {self.branch} and year if {self.semester}\")\n",
    "a=student(\"aman\",\"cs\",\"third\")\n",
    "a.getinfo()"
   ]
  },
  {
   "cell_type": "code",
   "execution_count": 20,
   "id": "b4793dae-3b3f-44cd-8448-b6f7962a0a57",
   "metadata": {},
   "outputs": [
    {
     "name": "stdout",
     "output_type": "stream",
     "text": [
      "Name of student is: Aman, branch: CS, and semester is: 8\n"
     ]
    }
   ],
   "source": [
    "class Student:\n",
    "    def __init__(self, name, branch, semester):  \n",
    "        self.name = name\n",
    "        self.branch = branch\n",
    "        self.semester = semester\n",
    "\n",
    "    def getinfo(self):\n",
    "        print(f\"Name of student is: {self.name}, branch: {self.branch}, and semester is: {self.semester}\")\n",
    "\n",
    "a = Student(\"Aman\", \"CS\", 8)\n",
    "a.getinfo()\n"
   ]
  },
  {
   "cell_type": "code",
   "execution_count": 67,
   "id": "d5b5d1a0-b531-4f71-a74b-a0c420c4b3c2",
   "metadata": {},
   "outputs": [
    {
     "name": "stdin",
     "output_type": "stream",
     "text": [
      "Enter your value:  12\n"
     ]
    },
    {
     "name": "stdout",
     "output_type": "stream",
     "text": [
      "name:aman  and balance : 22\n"
     ]
    }
   ],
   "source": [
    "new = {\"aman\":10}\n",
    "class acount:\n",
    "    def __init__(self, name,balance):\n",
    "        self.name = name\n",
    "        self.balance = balance\n",
    "        \n",
    "        if self.name in new:\n",
    "            additional = int(input(\"Enter your value: \"))\n",
    "            self.balance = new[self.name] + additional\n",
    "            new[self.name] = self.balance \n",
    "    def getinfo(self):\n",
    "        print(f\"name:{self.name}  and balance : {self.balance}\")\n",
    "a=acount(\"aman\",10)\n",
    "a.getinfo()"
   ]
  },
  {
   "cell_type": "code",
   "execution_count": 65,
   "id": "41a96305-f5c0-4a01-a054-4d825d6b65a1",
   "metadata": {},
   "outputs": [
    {
     "name": "stdin",
     "output_type": "stream",
     "text": [
      "Enter your value:  10\n"
     ]
    },
    {
     "name": "stdout",
     "output_type": "stream",
     "text": [
      "name: hae  and balance: 25\n"
     ]
    }
   ],
   "source": [
    "new = {\"aman\": 10, \"hae\": 15}\n",
    "\n",
    "class acount:\n",
    "    def __init__(self, name, balance):\n",
    "        self.name = name\n",
    "        self.balance = balance\n",
    "\n",
    "        if self.name in new:\n",
    "            additional = int(input(\"Enter your value: \"))\n",
    "            self.balance = new[self.name] + additional\n",
    "            new[self.name] = self.balance\n",
    "\n",
    "    def getinfo(self):\n",
    "        print(f\"name: {self.name}  and balance: {self.balance}\")\n",
    "\n",
    "a = acount(\"hae\", 15)\n",
    "a.getinfo()"
   ]
  },
  {
   "cell_type": "code",
   "execution_count": null,
   "id": "a483096a-e66f-499f-8285-3322e90f4871",
   "metadata": {},
   "outputs": [],
   "source": [
    " "
   ]
  },
  {
   "cell_type": "code",
   "execution_count": null,
   "id": "7b988ece-7184-4b1e-b76c-bc54090685ed",
   "metadata": {},
   "outputs": [],
   "source": []
  }
 ],
 "metadata": {
  "kernelspec": {
   "display_name": "Python 3 (ipykernel)",
   "language": "python",
   "name": "python3"
  },
  "language_info": {
   "codemirror_mode": {
    "name": "ipython",
    "version": 3
   },
   "file_extension": ".py",
   "mimetype": "text/x-python",
   "name": "python",
   "nbconvert_exporter": "python",
   "pygments_lexer": "ipython3",
   "version": "3.12.3"
  }
 },
 "nbformat": 4,
 "nbformat_minor": 5
}
