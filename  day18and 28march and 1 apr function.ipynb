{
 "cells": [
  {
   "cell_type": "markdown",
   "id": "e173f801-edeb-4ee7-bb01-20ee245ebbfa",
   "metadata": {},
   "source": [
    "## functions"
   ]
  },
  {
   "cell_type": "code",
   "execution_count": 26,
   "id": "29c2bd52-80ed-4c46-bb01-f6f3124ec362",
   "metadata": {},
   "outputs": [
    {
     "name": "stdout",
     "output_type": "stream",
     "text": [
      "hey\n",
      "hello\n"
     ]
    }
   ],
   "source": [
    "def msg():## user define\n",
    "    print(\"hey\")\n",
    "    print(\"hello\") ## function declarition \n",
    "msg() ## function calling"
   ]
  },
  {
   "cell_type": "code",
   "execution_count": 22,
   "id": "c55f5985-166f-4216-99ba-0bb6a4821438",
   "metadata": {},
   "outputs": [
    {
     "data": {
      "text/plain": [
       "3"
      ]
     },
     "execution_count": 22,
     "metadata": {},
     "output_type": "execute_result"
    }
   ],
   "source": [
    "len(\"hey\") ## user define"
   ]
  },
  {
   "cell_type": "code",
   "execution_count": 40,
   "id": "a2a70a6a-a2bf-4fd1-a448-7c3aee3465fe",
   "metadata": {},
   "outputs": [
    {
     "name": "stdout",
     "output_type": "stream",
     "text": [
      "2\n",
      "3\n",
      "4\n"
     ]
    }
   ],
   "source": [
    "def msg():\n",
    "    for i in range(2,5):\n",
    "        print(i)\n",
    "msg()\n",
    "      "
   ]
  },
  {
   "cell_type": "code",
   "execution_count": 42,
   "id": "58783c27-d803-4538-b83f-8778b08cbb54",
   "metadata": {},
   "outputs": [
    {
     "name": "stdout",
     "output_type": "stream",
     "text": [
      "2\n",
      "3\n",
      "4\n",
      "18\n"
     ]
    }
   ],
   "source": [
    "y=18\n",
    "def msg():\n",
    "    for i in range(2,5):\n",
    "        print(i)\n",
    "msg()\n",
    "print(y)\n",
    "      "
   ]
  },
  {
   "cell_type": "code",
   "execution_count": 60,
   "id": "235c5548-ade0-4b2a-8ecb-d51f72658d4f",
   "metadata": {},
   "outputs": [
    {
     "name": "stdout",
     "output_type": "stream",
     "text": [
      "50\n"
     ]
    }
   ],
   "source": [
    "def msg(c):## parimetric value \n",
    "        print(c)\n",
    "msg(50)## arrugment \n",
    "      "
   ]
  },
  {
   "cell_type": "code",
   "execution_count": 62,
   "id": "dc62819d-6cb8-42fc-9963-f2635dcea05f",
   "metadata": {},
   "outputs": [
    {
     "name": "stdout",
     "output_type": "stream",
     "text": [
      "1243\n"
     ]
    }
   ],
   "source": [
    "msg(1243)"
   ]
  },
  {
   "cell_type": "code",
   "execution_count": 69,
   "id": "854d4536-ae5e-4f46-ad43-128b43a3b83c",
   "metadata": {},
   "outputs": [
    {
     "name": "stdout",
     "output_type": "stream",
     "text": [
      "50 12\n"
     ]
    }
   ],
   "source": [
    "def msg(c,d):## parimetric value \n",
    "        print(c,d)\n",
    "msg(50,12)## arrugment \n",
    "      "
   ]
  },
  {
   "cell_type": "code",
   "execution_count": null,
   "id": "44ef44af-d0f9-4341-90ec-03bc8d37cc03",
   "metadata": {},
   "outputs": [],
   "source": []
  },
  {
   "cell_type": "code",
   "execution_count": null,
   "id": "27d906bf-a8a5-4e63-9e7b-840ebb6bd53f",
   "metadata": {},
   "outputs": [],
   "source": [
    "Types of Arguments in Python\n",
    "Python provides various argument types to pass values to functions, making them more flexible and reusable. Understanding these types can simplify your code and improve readability. we have the following function argument types in Python:\n",
    "\n",
    "Default argument\n",
    "Keyword arguments (named arguments)\n",
    "Positional arguments\n",
    "Arbitrary arguments (variable-length arguments *args and **kwargs)\n",
    "Lambda Function Arguments"
   ]
  },
  {
   "cell_type": "code",
   "execution_count": 74,
   "id": "7e628761-8d5e-47a6-b6ef-70b19c89816c",
   "metadata": {},
   "outputs": [
    {
     "name": "stdout",
     "output_type": "stream",
     "text": [
      "Hello, Guest!\n",
      "Hello, Alice!\n"
     ]
    }
   ],
   "source": [
    "## default :\n",
    "def greet(name=\"Guest\"):\n",
    "    print(f\"Hello, {name}!\")\n",
    "\n",
    " \n",
    "greet()  \n",
    "greet(\"Alice\")  \n",
    "\n",
    " "
   ]
  },
  {
   "cell_type": "code",
   "execution_count": 78,
   "id": "3cf3cda7-076d-4dac-ae75-0659b84101c8",
   "metadata": {},
   "outputs": [
    {
     "name": "stdout",
     "output_type": "stream",
     "text": [
      "105 106\n",
      "106 105\n"
     ]
    }
   ],
   "source": [
    "## Positional arguments\n",
    "def msg(c,d):\n",
    "    print(c,d)\n",
    "msg(105,106)\n",
    "msg(106,105)\n",
    " \n"
   ]
  },
  {
   "cell_type": "code",
   "execution_count": 82,
   "id": "01a6fe34-5ae6-41ad-b66a-43c876a58e1b",
   "metadata": {},
   "outputs": [
    {
     "name": "stdout",
     "output_type": "stream",
     "text": [
      "odd\n",
      "even\n"
     ]
    }
   ],
   "source": [
    "def func(a):\n",
    "    if(a%2==0):\n",
    "        print(\"even\")\n",
    "    else:\n",
    "        print(\"odd\")\n",
    "func(11)\n",
    "func(16)"
   ]
  },
  {
   "cell_type": "code",
   "execution_count": 146,
   "id": "6429ae5f-93ad-45e4-b0a1-638777e7c0a2",
   "metadata": {},
   "outputs": [
    {
     "name": "stdout",
     "output_type": "stream",
     "text": [
      "1 2 3 4 5  \n",
      "2 3 4 5  \n",
      "3 4 5  \n",
      "4 5  \n",
      "5  \n"
     ]
    }
   ],
   "source": [
    "def fun(num):\n",
    "    for i in range(1,num+1):\n",
    "        for j in range(i,num+1):\n",
    "            print(j,end=\" \")\n",
    "    \n",
    "        print(\" \")\n",
    "fun(5)"
   ]
  },
  {
   "cell_type": "code",
   "execution_count": 171,
   "id": "ee2c204a-a52a-465e-a05e-28e888070607",
   "metadata": {},
   "outputs": [
    {
     "name": "stdout",
     "output_type": "stream",
     "text": [
      "2\n",
      "4\n"
     ]
    }
   ],
   "source": [
    "def fun(num):\n",
    "    for i in range(2,num+1):\n",
    "        if(num%i==0):\n",
    "            print(i)\n",
    "fun(4)\n"
   ]
  },
  {
   "cell_type": "code",
   "execution_count": 22,
   "id": "fc510143-2d5c-4c04-b43e-6765a18dc3d7",
   "metadata": {},
   "outputs": [
    {
     "name": "stdout",
     "output_type": "stream",
     "text": [
      "value is grater than 10\n"
     ]
    }
   ],
   "source": [
    "def fun(s):\n",
    "    c=0\n",
    "    for i in s:\n",
    "        c+=1\n",
    "    if c>10:\n",
    "        print(\"value is grater than 10\")\n",
    "    else:\n",
    "        print(\"less than 10\")\n",
    "fun(\"abcdefghijkl\")"
   ]
  },
  {
   "cell_type": "markdown",
   "id": "a1f1c763-513b-41fb-85e1-7b2dbfdc927d",
   "metadata": {},
   "source": [
    "## key word argument"
   ]
  },
  {
   "cell_type": "code",
   "execution_count": 6,
   "id": "2d977f84-9399-4208-8e8e-a2fe7e5f5be8",
   "metadata": {},
   "outputs": [
    {
     "name": "stdout",
     "output_type": "stream",
     "text": [
      "hey x: 19 y value 20\n"
     ]
    }
   ],
   "source": [
    "def fun(x,y):\n",
    "    print(\"hey\",\"x:\",x,\"y value\",y)\n",
    "fun(x=19,y=20)"
   ]
  },
  {
   "cell_type": "markdown",
   "id": "d886d82d-ed88-41c1-961d-647752c85912",
   "metadata": {},
   "source": [
    "## default  argument"
   ]
  },
  {
   "cell_type": "code",
   "execution_count": 9,
   "id": "c305bfbb-b55a-41a0-9c08-ff8a3a46bfca",
   "metadata": {},
   "outputs": [
    {
     "name": "stdout",
     "output_type": "stream",
     "text": [
      "hey x: 19 y value abc\n"
     ]
    }
   ],
   "source": [
    "def fun(x,y=\"abc\"):\n",
    "    print(\"hey\",\"x:\",x,\"y value\",y)\n",
    "fun(x=19)"
   ]
  },
  {
   "cell_type": "code",
   "execution_count": 11,
   "id": "228b718e-2fbd-42db-bcc7-b5bf4d92c5ab",
   "metadata": {},
   "outputs": [
    {
     "name": "stdout",
     "output_type": "stream",
     "text": [
      "hey x: 19 y value 20\n"
     ]
    }
   ],
   "source": [
    "def fun(x,y):\n",
    "    print(\"hey\",\"x:\",x,\"y value\",y)\n",
    "fun(x=19,y=20)"
   ]
  },
  {
   "cell_type": "markdown",
   "id": "bdbd0d9c-fe68-4d2c-8980-b678d18ce15b",
   "metadata": {},
   "source": [
    "## variable length argument"
   ]
  },
  {
   "cell_type": "code",
   "execution_count": 16,
   "id": "be3e1421-dcf6-47ab-b1cb-8df9bee43bdc",
   "metadata": {},
   "outputs": [
    {
     "name": "stdout",
     "output_type": "stream",
     "text": [
      "(10,)\n",
      "()\n",
      "(20, 30)\n",
      "(10, 20, 30, 40, 50)\n"
     ]
    }
   ],
   "source": [
    "def fun(*x):\n",
    "    print(x)\n",
    "fun(10)\n",
    "fun()\n",
    "fun(20,30)\n",
    "fun(10,20,30,40,50)"
   ]
  },
  {
   "cell_type": "code",
   "execution_count": 27,
   "id": "539282af-c456-4577-8f07-31cf1ee8141a",
   "metadata": {},
   "outputs": [],
   "source": [
    "## key word length arrugment "
   ]
  },
  {
   "cell_type": "code",
   "execution_count": 24,
   "id": "79b0c0e1-7f6d-4b3f-94f7-17bc3a28c220",
   "metadata": {},
   "outputs": [
    {
     "name": "stdout",
     "output_type": "stream",
     "text": [
      "{'x': 10}\n",
      "{}\n",
      "{'x': 10, 'y': 2, 'z': 10}\n"
     ]
    }
   ],
   "source": [
    "def fun(**x):\n",
    "    print(x)\n",
    "fun(x=10)\n",
    "fun()\n",
    "fun(x=10,y=2,z=10)"
   ]
  },
  {
   "cell_type": "markdown",
   "id": "b036a5e6-1a5b-47c9-88af-6cb4e873c9fe",
   "metadata": {},
   "source": []
  },
  {
   "cell_type": "code",
   "execution_count": 33,
   "id": "3b0c173c-ff80-4ec0-9c74-46ce788ba0ff",
   "metadata": {},
   "outputs": [
    {
     "name": "stdout",
     "output_type": "stream",
     "text": [
      "<function fun at 0x00000141E3BB8A40> <function fun at 0x00000141E3BB8A40>\n",
      "hey\n"
     ]
    }
   ],
   "source": [
    "def fun():\n",
    "    print(\"hey\")\n",
    "out=fun\n",
    "print(fun,out)\n",
    "out=()\n",
    "fun()"
   ]
  },
  {
   "cell_type": "code",
   "execution_count": 61,
   "id": "430867a2-16d2-4582-ae37-f0cb8f31d32a",
   "metadata": {},
   "outputs": [
    {
     "name": "stdout",
     "output_type": "stream",
     "text": [
      "a=> 140734865890328\n",
      "hey 20 140734865890328\n"
     ]
    }
   ],
   "source": [
    "def fun(x):\n",
    "    print(\"hey\",x,id(x))\n",
    "a=20\n",
    "print(\"a=>\",id(a))\n",
    "fun(a)"
   ]
  },
  {
   "cell_type": "code",
   "execution_count": 59,
   "id": "e3495806-74ee-4e65-a6af-6dfb11dabf59",
   "metadata": {},
   "outputs": [
    {
     "name": "stdout",
     "output_type": "stream",
     "text": [
      "before function => 140734865890328\n",
      "hey 20 140734865890328\n",
      "inside the value  50 140734865890328\n",
      "after function=> 20\n"
     ]
    }
   ],
   "source": [
    "def fun(x):\n",
    "    print(\"hey\",x,id(x))\n",
    "    x=50\n",
    "    print(\"inside the value \",x,id(a))\n",
    "a=20\n",
    "print(\"before function =>\",id(a))\n",
    "fun(a)\n",
    "print(\"after function=>\",a)"
   ]
  },
  {
   "cell_type": "code",
   "execution_count": 67,
   "id": "5a3b9abb-5035-458f-8c89-ae0b4b50b16c",
   "metadata": {},
   "outputs": [
    {
     "name": "stdout",
     "output_type": "stream",
     "text": [
      "before function => [10, 20] 1382510344768\n",
      "hey [10, 20] 1382510344768\n",
      "inside the value  [10, 20, 30] 1382510344768\n",
      "after function=> [10, 20, 30] 1382510344768\n"
     ]
    }
   ],
   "source": [
    "def fun(y):\n",
    "    print(\"hey\",y,id(y))\n",
    "    y.append(30)\n",
    "    print(\"inside the value \",y,id(y))\n",
    "x=[10,20]\n",
    "print(\"before function =>\",x,id(x))\n",
    "fun(x)\n",
    "print(\"after function=>\",x,id(x))\n",
    "## mutable datatype in local variable"
   ]
  },
  {
   "cell_type": "markdown",
   "id": "2744d454-d7a8-43b0-9343-07b89c92a71e",
   "metadata": {},
   "source": [
    "## return keyword\n",
    "    ## to take the exit from function \n",
    "    ## return will revert back with the value "
   ]
  },
  {
   "cell_type": "code",
   "execution_count": 71,
   "id": "a48aa046-03e7-477b-8ba8-f06776ddb8c8",
   "metadata": {},
   "outputs": [
    {
     "name": "stdout",
     "output_type": "stream",
     "text": [
      "25\n",
      "None\n"
     ]
    }
   ],
   "source": [
    "def fun(c,d):\n",
    "    print(c+d)\n",
    "    return\n",
    "out=fun(10,15)\n",
    "print(out)"
   ]
  },
  {
   "cell_type": "code",
   "execution_count": 75,
   "id": "6451ff66-e348-40c0-9a49-23431bdf5d7c",
   "metadata": {},
   "outputs": [
    {
     "name": "stdout",
     "output_type": "stream",
     "text": [
      "25\n",
      "200 out value is \n"
     ]
    }
   ],
   "source": [
    "def fun(c,d):\n",
    "    print(c+d)\n",
    "    return 200\n",
    "out=fun(10,15)\n",
    "print(out,\"out value is \")"
   ]
  },
  {
   "cell_type": "code",
   "execution_count": 79,
   "id": "950fd968-eb53-4414-9b45-a622a3d0099a",
   "metadata": {},
   "outputs": [
    {
     "name": "stdout",
     "output_type": "stream",
     "text": [
      "150\n"
     ]
    }
   ],
   "source": [
    "def shadi(lifafa):\n",
    "    return lifafa+100\n",
    "    print(\"saree\")\n",
    "\n",
    "x = shadi(50)\n",
    "print(x)"
   ]
  },
  {
   "cell_type": "code",
   "execution_count": 81,
   "id": "82b15f72-2186-4716-b1ce-f0d211604ce4",
   "metadata": {},
   "outputs": [
    {
     "name": "stdout",
     "output_type": "stream",
     "text": [
      "abc\n"
     ]
    }
   ],
   "source": [
    "def shadi(lifafa):\n",
    "    return \"abc\" # it always gives the 1st return . \n",
    "    return lifafa+100\n",
    "    print(\"saree\")\n",
    "\n",
    "x = shadi(50)\n",
    "print(x)"
   ]
  },
  {
   "cell_type": "code",
   "execution_count": null,
   "id": "499272ba-be03-48b3-82d2-6ee25126c9b9",
   "metadata": {},
   "outputs": [],
   "source": []
  }
 ],
 "metadata": {
  "kernelspec": {
   "display_name": "Python 3 (ipykernel)",
   "language": "python",
   "name": "python3"
  },
  "language_info": {
   "codemirror_mode": {
    "name": "ipython",
    "version": 3
   },
   "file_extension": ".py",
   "mimetype": "text/x-python",
   "name": "python",
   "nbconvert_exporter": "python",
   "pygments_lexer": "ipython3",
   "version": "3.12.3"
  }
 },
 "nbformat": 4,
 "nbformat_minor": 5
}
