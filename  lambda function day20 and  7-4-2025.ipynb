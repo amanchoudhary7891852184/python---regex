{
 "cells": [
  {
   "cell_type": "markdown",
   "id": "ddb61d2d-bf8f-4d4b-b4a2-53830e36e239",
   "metadata": {},
   "source": [
    "## lambda function \n",
    "               #one line function \n",
    "               #inline function\n",
    "               #annymous function "
   ]
  },
  {
   "cell_type": "code",
   "execution_count": 6,
   "id": "f092e1bf-c286-4dac-90a2-92f2258fb1f9",
   "metadata": {},
   "outputs": [
    {
     "name": "stdout",
     "output_type": "stream",
     "text": [
      "<function func at 0x00000212B3AAFCE0>\n"
     ]
    }
   ],
   "source": [
    "def func(x):\n",
    "    return \"hey\"\n",
    "print(func)"
   ]
  },
  {
   "cell_type": "code",
   "execution_count": 16,
   "id": "68bf58e6-f7b1-4d3c-a065-8e3b49913760",
   "metadata": {},
   "outputs": [
    {
     "data": {
      "text/plain": [
       "'hey'"
      ]
     },
     "execution_count": 16,
     "metadata": {},
     "output_type": "execute_result"
    }
   ],
   "source": [
    "out=lambda x: \"hey\"\n",
    "out(10)"
   ]
  },
  {
   "cell_type": "markdown",
   "id": "d1fb3915-b361-472f-a97b-e234e0941c52",
   "metadata": {},
   "source": [
    "## lambda function must be used with higher order function \n",
    "                                         ## map()\n",
    "                                         ## filter"
   ]
  },
  {
   "cell_type": "code",
   "execution_count": 19,
   "id": "b9819359-6324-4cc3-a2c1-1238ef33f4f4",
   "metadata": {},
   "outputs": [
    {
     "name": "stdout",
     "output_type": "stream",
     "text": [
      "100\n",
      "400\n",
      "900\n",
      "1600\n"
     ]
    }
   ],
   "source": [
    "x=[10,20,30,40]\n",
    "for i in x:\n",
    "    print(i**2)"
   ]
  },
  {
   "cell_type": "code",
   "execution_count": 31,
   "id": "1651c5f9-14c4-442a-b104-4b04e9eb359f",
   "metadata": {},
   "outputs": [],
   "source": [
    "def sq(x):\n",
    "    return x**2\n",
    "    "
   ]
  },
  {
   "cell_type": "code",
   "execution_count": 43,
   "id": "4a52ff00-1a3c-410e-b2ef-29ddd1a890d7",
   "metadata": {},
   "outputs": [
    {
     "data": {
      "text/plain": [
       "25"
      ]
     },
     "execution_count": 43,
     "metadata": {},
     "output_type": "execute_result"
    }
   ],
   "source": [
    "y=map(sq,[5,7,8])\n",
    "next(y)"
   ]
  },
  {
   "cell_type": "code",
   "execution_count": 45,
   "id": "470d1afd-38e5-4b41-9ce3-40331e3c780a",
   "metadata": {},
   "outputs": [
    {
     "data": {
      "text/plain": [
       "49"
      ]
     },
     "execution_count": 45,
     "metadata": {},
     "output_type": "execute_result"
    }
   ],
   "source": [
    "next(y)"
   ]
  },
  {
   "cell_type": "code",
   "execution_count": 47,
   "id": "20f70ed5-a58c-45d9-9866-0893894d3ac0",
   "metadata": {},
   "outputs": [
    {
     "data": {
      "text/plain": [
       "64"
      ]
     },
     "execution_count": 47,
     "metadata": {},
     "output_type": "execute_result"
    }
   ],
   "source": [
    "next(y)"
   ]
  },
  {
   "cell_type": "code",
   "execution_count": 51,
   "id": "28e5f4da-a802-4fc3-915d-314e11492f7e",
   "metadata": {},
   "outputs": [
    {
     "data": {
      "text/plain": [
       "25"
      ]
     },
     "execution_count": 51,
     "metadata": {},
     "output_type": "execute_result"
    }
   ],
   "source": [
    "y=map(lambda x:x**2,[5,7,8])\n",
    "next(y)  ##lambda parimeter :expression"
   ]
  },
  {
   "cell_type": "code",
   "execution_count": 61,
   "id": "ef251b30-413b-4ea7-ae37-dfc001b551b8",
   "metadata": {},
   "outputs": [
    {
     "data": {
      "text/plain": [
       "[25, 49, 64]"
      ]
     },
     "execution_count": 61,
     "metadata": {},
     "output_type": "execute_result"
    }
   ],
   "source": [
    "list(map(lambda x:x**2,[5,7,8]))"
   ]
  },
  {
   "cell_type": "code",
   "execution_count": 63,
   "id": "61cead92-30a5-421a-9c63-97d9560d5d2f",
   "metadata": {},
   "outputs": [
    {
     "data": {
      "text/plain": [
       "[[25], [49], [64]]"
      ]
     },
     "execution_count": 63,
     "metadata": {},
     "output_type": "execute_result"
    }
   ],
   "source": [
    "list(map(lambda x:[x**2],[5,7,8]))"
   ]
  },
  {
   "cell_type": "code",
   "execution_count": 65,
   "id": "9af8a97f-e09f-4dcb-a62d-8f667f336474",
   "metadata": {},
   "outputs": [
    {
     "data": {
      "text/plain": [
       "[False, False, True]"
      ]
     },
     "execution_count": 65,
     "metadata": {},
     "output_type": "execute_result"
    }
   ],
   "source": [
    "list(map(lambda x:x%2==0,[5,7,8]))"
   ]
  },
  {
   "cell_type": "code",
   "execution_count": 69,
   "id": "c9b75bd6-f040-4fd4-9ffd-9bc69c7c3ab1",
   "metadata": {},
   "outputs": [
    {
     "data": {
      "text/plain": [
       "[8]"
      ]
     },
     "execution_count": 69,
     "metadata": {},
     "output_type": "execute_result"
    }
   ],
   "source": [
    "list(filter(lambda x:x%2==0,[5,7,8]))"
   ]
  },
  {
   "cell_type": "code",
   "execution_count": 71,
   "id": "6d37c64b-59eb-459a-9442-1f4aa8539aff",
   "metadata": {},
   "outputs": [],
   "source": [
    "## dictionary"
   ]
  },
  {
   "cell_type": "code",
   "execution_count": 92,
   "id": "941f1b31-9857-4fb8-a2f6-ca7d93f79d8f",
   "metadata": {},
   "outputs": [
    {
     "data": {
      "text/plain": [
       "{5: 1, 7: 1, 8: 1}"
      ]
     },
     "execution_count": 92,
     "metadata": {},
     "output_type": "execute_result"
    }
   ],
   "source": [
    "y=list(map(lambda x:(x,1),[5,7,8]))\n",
    "dict(y)"
   ]
  },
  {
   "cell_type": "code",
   "execution_count": 122,
   "id": "0ef34bb1-c907-41de-b3ca-222c2a89a96b",
   "metadata": {},
   "outputs": [
    {
     "name": "stdout",
     "output_type": "stream",
     "text": [
      "helloe\n",
      "dklSbjf\n"
     ]
    }
   ],
   "source": [
    "f=open(\"html.txt\")\n",
    "var=f.read()\n",
    "f.close()\n",
    "print(var)"
   ]
  },
  {
   "cell_type": "code",
   "execution_count": 130,
   "id": "1871fd8c-dc0f-4d67-af5c-8da4406c7b03",
   "metadata": {},
   "outputs": [],
   "source": [
    "f=open(\"html.txt\",\"w\")\n",
    "f.write(\"See you soon!\")\n",
    "f.close()"
   ]
  },
  {
   "cell_type": "code",
   "execution_count": 134,
   "id": "193e7d60-6251-4009-9e25-6823592847ef",
   "metadata": {},
   "outputs": [
    {
     "name": "stdout",
     "output_type": "stream",
     "text": [
      "See you soon!\n"
     ]
    }
   ],
   "source": [
    "f=open(\"html.txt\")\n",
    "var=f.read()\n",
    "print(var)"
   ]
  },
  {
   "cell_type": "code",
   "execution_count": null,
   "id": "102e34aa-a8bf-4c3e-a0d4-f034b6b6bf38",
   "metadata": {},
   "outputs": [],
   "source": []
  }
 ],
 "metadata": {
  "kernelspec": {
   "display_name": "Python 3 (ipykernel)",
   "language": "python",
   "name": "python3"
  },
  "language_info": {
   "codemirror_mode": {
    "name": "ipython",
    "version": 3
   },
   "file_extension": ".py",
   "mimetype": "text/x-python",
   "name": "python",
   "nbconvert_exporter": "python",
   "pygments_lexer": "ipython3",
   "version": "3.12.3"
  }
 },
 "nbformat": 4,
 "nbformat_minor": 5
}
